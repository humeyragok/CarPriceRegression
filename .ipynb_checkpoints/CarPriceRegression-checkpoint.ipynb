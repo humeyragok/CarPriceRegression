{
 "cells": [
  {
   "cell_type": "code",
   "execution_count": 1,
   "id": "6058d0a1",
   "metadata": {},
   "outputs": [
    {
     "name": "stdout",
     "output_type": "stream",
     "text": [
      "WARNING:tensorflow:From C:\\Users\\hmyrg\\anaconda3\\Lib\\site-packages\\keras\\src\\losses.py:2976: The name tf.losses.sparse_softmax_cross_entropy is deprecated. Please use tf.compat.v1.losses.sparse_softmax_cross_entropy instead.\n",
      "\n"
     ]
    }
   ],
   "source": [
    "import pandas as pd\n",
    "import numpy as np\n",
    "import tensorflow as tf\n",
    "import matplotlib.pyplot as plt\n",
    "import seaborn as sbn"
   ]
  },
  {
   "cell_type": "code",
   "execution_count": 2,
   "id": "d8bc1088",
   "metadata": {},
   "outputs": [
    {
     "data": {
      "text/html": [
       "<div>\n",
       "<style scoped>\n",
       "    .dataframe tbody tr th:only-of-type {\n",
       "        vertical-align: middle;\n",
       "    }\n",
       "\n",
       "    .dataframe tbody tr th {\n",
       "        vertical-align: top;\n",
       "    }\n",
       "\n",
       "    .dataframe thead th {\n",
       "        text-align: right;\n",
       "    }\n",
       "</style>\n",
       "<table border=\"1\" class=\"dataframe\">\n",
       "  <thead>\n",
       "    <tr style=\"text-align: right;\">\n",
       "      <th></th>\n",
       "      <th>name</th>\n",
       "      <th>year</th>\n",
       "      <th>miles</th>\n",
       "      <th>color</th>\n",
       "      <th>condition</th>\n",
       "      <th>price</th>\n",
       "    </tr>\n",
       "  </thead>\n",
       "  <tbody>\n",
       "    <tr>\n",
       "      <th>0</th>\n",
       "      <td>Kia Forte</td>\n",
       "      <td>2022</td>\n",
       "      <td>41,406 miles</td>\n",
       "      <td>Gray exterior, Black interior</td>\n",
       "      <td>No accidents reported, 1 Owner</td>\n",
       "      <td>$15,988</td>\n",
       "    </tr>\n",
       "    <tr>\n",
       "      <th>1</th>\n",
       "      <td>Chevrolet Silverado 1500</td>\n",
       "      <td>2021</td>\n",
       "      <td>15,138 miles</td>\n",
       "      <td>White exterior, Black interior</td>\n",
       "      <td>1 accident reported, 1 Owner</td>\n",
       "      <td>$38,008</td>\n",
       "    </tr>\n",
       "    <tr>\n",
       "      <th>2</th>\n",
       "      <td>Toyota RAV4</td>\n",
       "      <td>2022</td>\n",
       "      <td>32,879 miles</td>\n",
       "      <td>Silver exterior, Unknown interior</td>\n",
       "      <td>No accidents reported, 1 Owner</td>\n",
       "      <td>$24,988</td>\n",
       "    </tr>\n",
       "    <tr>\n",
       "      <th>3</th>\n",
       "      <td>Honda Civic</td>\n",
       "      <td>2020</td>\n",
       "      <td>37,190 miles</td>\n",
       "      <td>Blue exterior, Black interior</td>\n",
       "      <td>No accidents reported, 1 Owner</td>\n",
       "      <td>$18,998</td>\n",
       "    </tr>\n",
       "    <tr>\n",
       "      <th>4</th>\n",
       "      <td>Honda Civic</td>\n",
       "      <td>2020</td>\n",
       "      <td>27,496 miles</td>\n",
       "      <td>Black exterior, Black interior</td>\n",
       "      <td>No accidents reported, 1 Owner</td>\n",
       "      <td>$19,498</td>\n",
       "    </tr>\n",
       "    <tr>\n",
       "      <th>...</th>\n",
       "      <td>...</td>\n",
       "      <td>...</td>\n",
       "      <td>...</td>\n",
       "      <td>...</td>\n",
       "      <td>...</td>\n",
       "      <td>...</td>\n",
       "    </tr>\n",
       "    <tr>\n",
       "      <th>2835</th>\n",
       "      <td>Ford Escape</td>\n",
       "      <td>2013</td>\n",
       "      <td>98,601 miles</td>\n",
       "      <td>Silver exterior, Unknown interior</td>\n",
       "      <td>2 accidents reported, 3 Owners</td>\n",
       "      <td>$8,995</td>\n",
       "    </tr>\n",
       "    <tr>\n",
       "      <th>2836</th>\n",
       "      <td>Mercedes-Benz R-Class</td>\n",
       "      <td>2009</td>\n",
       "      <td>120,694 miles</td>\n",
       "      <td>Black exterior, Black interior</td>\n",
       "      <td>1 accident reported, 3 Owners</td>\n",
       "      <td>$9,495</td>\n",
       "    </tr>\n",
       "    <tr>\n",
       "      <th>2837</th>\n",
       "      <td>Mercedes-Benz GLC</td>\n",
       "      <td>2022</td>\n",
       "      <td>27,894 miles</td>\n",
       "      <td>Gray exterior, Gray interior</td>\n",
       "      <td>No accidents reported, 2 Owners</td>\n",
       "      <td>$29,999</td>\n",
       "    </tr>\n",
       "    <tr>\n",
       "      <th>2838</th>\n",
       "      <td>Honda CR-V</td>\n",
       "      <td>2021</td>\n",
       "      <td>50,220 miles</td>\n",
       "      <td>Gray exterior, Unknown interior</td>\n",
       "      <td>No accidents reported, 1 Owner</td>\n",
       "      <td>$22,992</td>\n",
       "    </tr>\n",
       "    <tr>\n",
       "      <th>2839</th>\n",
       "      <td>Honda Civic</td>\n",
       "      <td>2021</td>\n",
       "      <td>26,510 miles</td>\n",
       "      <td>White exterior, Black interior</td>\n",
       "      <td>No accidents reported, 1 Owner</td>\n",
       "      <td>$24,135</td>\n",
       "    </tr>\n",
       "  </tbody>\n",
       "</table>\n",
       "<p>2840 rows × 6 columns</p>\n",
       "</div>"
      ],
      "text/plain": [
       "                          name  year          miles  \\\n",
       "0                    Kia Forte  2022   41,406 miles   \n",
       "1     Chevrolet Silverado 1500  2021   15,138 miles   \n",
       "2                  Toyota RAV4  2022   32,879 miles   \n",
       "3                  Honda Civic  2020   37,190 miles   \n",
       "4                  Honda Civic  2020   27,496 miles   \n",
       "...                        ...   ...            ...   \n",
       "2835               Ford Escape  2013   98,601 miles   \n",
       "2836     Mercedes-Benz R-Class  2009  120,694 miles   \n",
       "2837         Mercedes-Benz GLC  2022   27,894 miles   \n",
       "2838                Honda CR-V  2021   50,220 miles   \n",
       "2839               Honda Civic  2021   26,510 miles   \n",
       "\n",
       "                                  color                        condition  \\\n",
       "0         Gray exterior, Black interior   No accidents reported, 1 Owner   \n",
       "1        White exterior, Black interior     1 accident reported, 1 Owner   \n",
       "2     Silver exterior, Unknown interior   No accidents reported, 1 Owner   \n",
       "3         Blue exterior, Black interior   No accidents reported, 1 Owner   \n",
       "4        Black exterior, Black interior   No accidents reported, 1 Owner   \n",
       "...                                 ...                              ...   \n",
       "2835  Silver exterior, Unknown interior   2 accidents reported, 3 Owners   \n",
       "2836     Black exterior, Black interior    1 accident reported, 3 Owners   \n",
       "2837       Gray exterior, Gray interior  No accidents reported, 2 Owners   \n",
       "2838    Gray exterior, Unknown interior   No accidents reported, 1 Owner   \n",
       "2839     White exterior, Black interior   No accidents reported, 1 Owner   \n",
       "\n",
       "        price  \n",
       "0     $15,988  \n",
       "1     $38,008  \n",
       "2     $24,988  \n",
       "3     $18,998  \n",
       "4     $19,498  \n",
       "...       ...  \n",
       "2835   $8,995  \n",
       "2836   $9,495  \n",
       "2837  $29,999  \n",
       "2838  $22,992  \n",
       "2839  $24,135  \n",
       "\n",
       "[2840 rows x 6 columns]"
      ]
     },
     "execution_count": 2,
     "metadata": {},
     "output_type": "execute_result"
    }
   ],
   "source": [
    "df=pd.read_csv(\"car_web_scraped_dataset.csv\")\n",
    "df"
   ]
  },
  {
   "cell_type": "code",
   "execution_count": 3,
   "id": "731698c8",
   "metadata": {},
   "outputs": [],
   "source": [
    "#Farklı markaların kategorik verilerini numeriğe dönüştürüyoruz\n",
    "from sklearn.preprocessing import LabelEncoder"
   ]
  },
  {
   "cell_type": "code",
   "execution_count": 4,
   "id": "e78b1148",
   "metadata": {},
   "outputs": [],
   "source": [
    "label_encoder=LabelEncoder()\n",
    "df[\"name_encoder\"]=label_encoder.fit_transform(df[\"name\"])\n",
    "df[\"color_encoder\"]=label_encoder.fit_transform(df[\"color\"])"
   ]
  },
  {
   "cell_type": "code",
   "execution_count": 5,
   "id": "db89e30e",
   "metadata": {},
   "outputs": [
    {
     "name": "stdout",
     "output_type": "stream",
     "text": [
      "Sınıf Etiketleri: ['Black exterior, Beige interior' 'Black exterior, Black interior'\n",
      " 'Black exterior, Brown interior' 'Black exterior, Gray interior'\n",
      " 'Black exterior, Red interior' 'Black exterior, Unknown interior'\n",
      " 'Black exterior, White interior' 'Blue exterior, Beige interior'\n",
      " 'Blue exterior, Black interior' 'Blue exterior, Brown interior'\n",
      " 'Blue exterior, Gray interior' 'Blue exterior, Red interior'\n",
      " 'Blue exterior, Unknown interior' 'Brown exterior, Beige interior'\n",
      " 'Brown exterior, Black interior' 'Brown exterior, Gray interior'\n",
      " 'Gold exterior, Beige interior' 'Gold exterior, Black interior'\n",
      " 'Gray exterior, Beige interior' 'Gray exterior, Black interior'\n",
      " 'Gray exterior, Blue interior' 'Gray exterior, Brown interior'\n",
      " 'Gray exterior, Gray interior' 'Gray exterior, Red interior'\n",
      " 'Gray exterior, Unknown interior' 'Gray exterior, White interior'\n",
      " 'Green exterior, Beige interior' 'Green exterior, Black interior'\n",
      " 'Green exterior, Gray interior' 'Green exterior, Green interior'\n",
      " 'Orange exterior, Black interior' 'Purple exterior, Beige interior'\n",
      " 'Purple exterior, Unknown interior' 'Red exterior, Beige interior'\n",
      " 'Red exterior, Black interior' 'Red exterior, Brown interior'\n",
      " 'Red exterior, Gray interior' 'Red exterior, Unknown interior'\n",
      " 'Red exterior, White interior' 'Silver exterior, Beige interior'\n",
      " 'Silver exterior, Black interior' 'Silver exterior, Blue interior'\n",
      " 'Silver exterior, Brown interior' 'Silver exterior, Gray interior'\n",
      " 'Silver exterior, Red interior' 'Silver exterior, Unknown interior'\n",
      " 'Tan exterior, Beige interior' 'Tan exterior, Black interior'\n",
      " 'Tan exterior, Gray interior' 'Unknown exterior, Beige interior'\n",
      " 'Unknown exterior, Black interior' 'Unknown exterior, Gray interior'\n",
      " 'Unknown exterior, Unknown interior' 'White exterior, Beige interior'\n",
      " 'White exterior, Black interior' 'White exterior, Blue interior'\n",
      " 'White exterior, Brown interior' 'White exterior, Gray interior'\n",
      " 'White exterior, Orange interior' 'White exterior, Red interior'\n",
      " 'White exterior, Unknown interior' 'White exterior, White interior'\n",
      " 'Yellow exterior, Black interior' 'Yellow exterior, Yellow interior']\n",
      "Atamalar: [ 0  1  2  3  4  5  6  7  8  9 10 11 12 13 14 15 16 17 18 19 20 21 22 23\n",
      " 24 25 26 27 28 29 30 31 32 33 34 35 36 37 38 39 40 41 42 43 44 45 46 47\n",
      " 48 49 50 51 52 53 54 55 56 57 58 59 60 61 62 63]\n"
     ]
    },
    {
     "data": {
      "text/html": [
       "<div>\n",
       "<style scoped>\n",
       "    .dataframe tbody tr th:only-of-type {\n",
       "        vertical-align: middle;\n",
       "    }\n",
       "\n",
       "    .dataframe tbody tr th {\n",
       "        vertical-align: top;\n",
       "    }\n",
       "\n",
       "    .dataframe thead th {\n",
       "        text-align: right;\n",
       "    }\n",
       "</style>\n",
       "<table border=\"1\" class=\"dataframe\">\n",
       "  <thead>\n",
       "    <tr style=\"text-align: right;\">\n",
       "      <th></th>\n",
       "      <th>name</th>\n",
       "      <th>year</th>\n",
       "      <th>miles</th>\n",
       "      <th>color</th>\n",
       "      <th>condition</th>\n",
       "      <th>price</th>\n",
       "      <th>name_encoder</th>\n",
       "      <th>color_encoder</th>\n",
       "    </tr>\n",
       "  </thead>\n",
       "  <tbody>\n",
       "    <tr>\n",
       "      <th>0</th>\n",
       "      <td>Kia Forte</td>\n",
       "      <td>2022</td>\n",
       "      <td>41,406 miles</td>\n",
       "      <td>Gray exterior, Black interior</td>\n",
       "      <td>No accidents reported, 1 Owner</td>\n",
       "      <td>$15,988</td>\n",
       "      <td>157</td>\n",
       "      <td>19</td>\n",
       "    </tr>\n",
       "    <tr>\n",
       "      <th>1</th>\n",
       "      <td>Chevrolet Silverado 1500</td>\n",
       "      <td>2021</td>\n",
       "      <td>15,138 miles</td>\n",
       "      <td>White exterior, Black interior</td>\n",
       "      <td>1 accident reported, 1 Owner</td>\n",
       "      <td>$38,008</td>\n",
       "      <td>66</td>\n",
       "      <td>54</td>\n",
       "    </tr>\n",
       "    <tr>\n",
       "      <th>2</th>\n",
       "      <td>Toyota RAV4</td>\n",
       "      <td>2022</td>\n",
       "      <td>32,879 miles</td>\n",
       "      <td>Silver exterior, Unknown interior</td>\n",
       "      <td>No accidents reported, 1 Owner</td>\n",
       "      <td>$24,988</td>\n",
       "      <td>283</td>\n",
       "      <td>45</td>\n",
       "    </tr>\n",
       "    <tr>\n",
       "      <th>3</th>\n",
       "      <td>Honda Civic</td>\n",
       "      <td>2020</td>\n",
       "      <td>37,190 miles</td>\n",
       "      <td>Blue exterior, Black interior</td>\n",
       "      <td>No accidents reported, 1 Owner</td>\n",
       "      <td>$18,998</td>\n",
       "      <td>121</td>\n",
       "      <td>8</td>\n",
       "    </tr>\n",
       "    <tr>\n",
       "      <th>4</th>\n",
       "      <td>Honda Civic</td>\n",
       "      <td>2020</td>\n",
       "      <td>27,496 miles</td>\n",
       "      <td>Black exterior, Black interior</td>\n",
       "      <td>No accidents reported, 1 Owner</td>\n",
       "      <td>$19,498</td>\n",
       "      <td>121</td>\n",
       "      <td>1</td>\n",
       "    </tr>\n",
       "    <tr>\n",
       "      <th>...</th>\n",
       "      <td>...</td>\n",
       "      <td>...</td>\n",
       "      <td>...</td>\n",
       "      <td>...</td>\n",
       "      <td>...</td>\n",
       "      <td>...</td>\n",
       "      <td>...</td>\n",
       "      <td>...</td>\n",
       "    </tr>\n",
       "    <tr>\n",
       "      <th>2835</th>\n",
       "      <td>Ford Escape</td>\n",
       "      <td>2013</td>\n",
       "      <td>98,601 miles</td>\n",
       "      <td>Silver exterior, Unknown interior</td>\n",
       "      <td>2 accidents reported, 3 Owners</td>\n",
       "      <td>$8,995</td>\n",
       "      <td>93</td>\n",
       "      <td>45</td>\n",
       "    </tr>\n",
       "    <tr>\n",
       "      <th>2836</th>\n",
       "      <td>Mercedes-Benz R-Class</td>\n",
       "      <td>2009</td>\n",
       "      <td>120,694 miles</td>\n",
       "      <td>Black exterior, Black interior</td>\n",
       "      <td>1 accident reported, 3 Owners</td>\n",
       "      <td>$9,495</td>\n",
       "      <td>220</td>\n",
       "      <td>1</td>\n",
       "    </tr>\n",
       "    <tr>\n",
       "      <th>2837</th>\n",
       "      <td>Mercedes-Benz GLC</td>\n",
       "      <td>2022</td>\n",
       "      <td>27,894 miles</td>\n",
       "      <td>Gray exterior, Gray interior</td>\n",
       "      <td>No accidents reported, 2 Owners</td>\n",
       "      <td>$29,999</td>\n",
       "      <td>214</td>\n",
       "      <td>22</td>\n",
       "    </tr>\n",
       "    <tr>\n",
       "      <th>2838</th>\n",
       "      <td>Honda CR-V</td>\n",
       "      <td>2021</td>\n",
       "      <td>50,220 miles</td>\n",
       "      <td>Gray exterior, Unknown interior</td>\n",
       "      <td>No accidents reported, 1 Owner</td>\n",
       "      <td>$22,992</td>\n",
       "      <td>119</td>\n",
       "      <td>24</td>\n",
       "    </tr>\n",
       "    <tr>\n",
       "      <th>2839</th>\n",
       "      <td>Honda Civic</td>\n",
       "      <td>2021</td>\n",
       "      <td>26,510 miles</td>\n",
       "      <td>White exterior, Black interior</td>\n",
       "      <td>No accidents reported, 1 Owner</td>\n",
       "      <td>$24,135</td>\n",
       "      <td>121</td>\n",
       "      <td>54</td>\n",
       "    </tr>\n",
       "  </tbody>\n",
       "</table>\n",
       "<p>2840 rows × 8 columns</p>\n",
       "</div>"
      ],
      "text/plain": [
       "                          name  year          miles  \\\n",
       "0                    Kia Forte  2022   41,406 miles   \n",
       "1     Chevrolet Silverado 1500  2021   15,138 miles   \n",
       "2                  Toyota RAV4  2022   32,879 miles   \n",
       "3                  Honda Civic  2020   37,190 miles   \n",
       "4                  Honda Civic  2020   27,496 miles   \n",
       "...                        ...   ...            ...   \n",
       "2835               Ford Escape  2013   98,601 miles   \n",
       "2836     Mercedes-Benz R-Class  2009  120,694 miles   \n",
       "2837         Mercedes-Benz GLC  2022   27,894 miles   \n",
       "2838                Honda CR-V  2021   50,220 miles   \n",
       "2839               Honda Civic  2021   26,510 miles   \n",
       "\n",
       "                                  color                        condition  \\\n",
       "0         Gray exterior, Black interior   No accidents reported, 1 Owner   \n",
       "1        White exterior, Black interior     1 accident reported, 1 Owner   \n",
       "2     Silver exterior, Unknown interior   No accidents reported, 1 Owner   \n",
       "3         Blue exterior, Black interior   No accidents reported, 1 Owner   \n",
       "4        Black exterior, Black interior   No accidents reported, 1 Owner   \n",
       "...                                 ...                              ...   \n",
       "2835  Silver exterior, Unknown interior   2 accidents reported, 3 Owners   \n",
       "2836     Black exterior, Black interior    1 accident reported, 3 Owners   \n",
       "2837       Gray exterior, Gray interior  No accidents reported, 2 Owners   \n",
       "2838    Gray exterior, Unknown interior   No accidents reported, 1 Owner   \n",
       "2839     White exterior, Black interior   No accidents reported, 1 Owner   \n",
       "\n",
       "        price  name_encoder  color_encoder  \n",
       "0     $15,988           157             19  \n",
       "1     $38,008            66             54  \n",
       "2     $24,988           283             45  \n",
       "3     $18,998           121              8  \n",
       "4     $19,498           121              1  \n",
       "...       ...           ...            ...  \n",
       "2835   $8,995            93             45  \n",
       "2836   $9,495           220              1  \n",
       "2837  $29,999           214             22  \n",
       "2838  $22,992           119             24  \n",
       "2839  $24,135           121             54  \n",
       "\n",
       "[2840 rows x 8 columns]"
      ]
     },
     "execution_count": 5,
     "metadata": {},
     "output_type": "execute_result"
    }
   ],
   "source": [
    "'''fig, axes = plt.subplots(1, 2, figsize=(10, 4))\n",
    "\n",
    "sbn.countplot(x='name', data=df, ax=axes[0])\n",
    "axes[0].set_title('Asıl Veri')\n",
    "\n",
    "sbn.countplot(x='marka_encoder', data=df, ax=axes[1])\n",
    "axes[1].set_title('Label Encoding Sonrası')\n",
    "\n",
    "plt.show() '''\n",
    "#label encodingi kontrol ettim\n",
    "print(\"Sınıf Etiketleri:\", label_encoder.classes_)\n",
    "print(\"Atamalar:\", label_encoder.transform(label_encoder.classes_))\n",
    "df"
   ]
  },
  {
   "cell_type": "code",
   "execution_count": 6,
   "id": "9adf509d",
   "metadata": {},
   "outputs": [],
   "source": [
    "df=df.drop([\"name\"],axis=1)"
   ]
  },
  {
   "cell_type": "code",
   "execution_count": 7,
   "id": "6fa69c96",
   "metadata": {},
   "outputs": [],
   "source": [
    "sdf=df.drop([\"condition\"],axis=1)"
   ]
  },
  {
   "cell_type": "code",
   "execution_count": 8,
   "id": "2f3e264b",
   "metadata": {},
   "outputs": [],
   "source": [
    "df=df.drop([\"color\"],axis=1)"
   ]
  },
  {
   "cell_type": "code",
   "execution_count": null,
   "id": "b52a1d9b",
   "metadata": {},
   "outputs": [],
   "source": []
  },
  {
   "cell_type": "code",
   "execution_count": null,
   "id": "a8cd8905",
   "metadata": {},
   "outputs": [],
   "source": []
  },
  {
   "cell_type": "code",
   "execution_count": null,
   "id": "47540d1a",
   "metadata": {},
   "outputs": [],
   "source": [
    "df['price'] = df['price'].str.replace('$', '')\n",
    "df['price'] = df['price'].str.replace(',', '.')"
   ]
  },
  {
   "cell_type": "code",
   "execution_count": null,
   "id": "621ccb68",
   "metadata": {},
   "outputs": [],
   "source": [
    "df['miles'] = df['miles'].str[:-5]\n",
    "df['miles'] = df['miles'].str.replace(',', '.')"
   ]
  },
  {
   "cell_type": "code",
   "execution_count": null,
   "id": "9238d261",
   "metadata": {},
   "outputs": [],
   "source": [
    "df.isnull().sum() #eksik veri olup olmadığını kontrol ediyorum"
   ]
  },
  {
   "cell_type": "code",
   "execution_count": null,
   "id": "54d2cb6e",
   "metadata": {},
   "outputs": [],
   "source": [
    "#plt.figure(figsize=(7,5))\n",
    "#sbn.distplot(dataFrame[\"price\"])\n",
    "df.corr()[\"price\"].sort_values()"
   ]
  },
  {
   "cell_type": "code",
   "execution_count": null,
   "id": "152a150d",
   "metadata": {
    "scrolled": true
   },
   "outputs": [],
   "source": [
    "df"
   ]
  },
  {
   "cell_type": "code",
   "execution_count": null,
   "id": "a6249cd1",
   "metadata": {},
   "outputs": [],
   "source": [
    "y=df[\"price\"].values\n",
    "x=df.drop(\"price\",axis=1).values"
   ]
  },
  {
   "cell_type": "code",
   "execution_count": null,
   "id": "6544a435",
   "metadata": {},
   "outputs": [],
   "source": [
    "y"
   ]
  },
  {
   "cell_type": "code",
   "execution_count": null,
   "id": "3c369db3",
   "metadata": {},
   "outputs": [],
   "source": [
    "x"
   ]
  },
  {
   "cell_type": "code",
   "execution_count": null,
   "id": "a5f3b6e9",
   "metadata": {},
   "outputs": [],
   "source": [
    "from sklearn.model_selection import train_test_split"
   ]
  },
  {
   "cell_type": "code",
   "execution_count": null,
   "id": "f0006862",
   "metadata": {},
   "outputs": [],
   "source": [
    "x_train,x_test,y_train,y_test=train_test_split(x,y,test_size=.3,random_state=10)"
   ]
  },
  {
   "cell_type": "code",
   "execution_count": null,
   "id": "9e3401d9",
   "metadata": {},
   "outputs": [],
   "source": [
    "len(x_train)"
   ]
  },
  {
   "cell_type": "code",
   "execution_count": null,
   "id": "06ebf468",
   "metadata": {},
   "outputs": [],
   "source": [
    "len(x_test)"
   ]
  },
  {
   "cell_type": "code",
   "execution_count": null,
   "id": "0f774025",
   "metadata": {},
   "outputs": [],
   "source": [
    "from sklearn.preprocessing import MinMaxScaler"
   ]
  },
  {
   "cell_type": "code",
   "execution_count": null,
   "id": "79e91615",
   "metadata": {},
   "outputs": [],
   "source": [
    "scaler=MinMaxScaler()"
   ]
  },
  {
   "cell_type": "code",
   "execution_count": null,
   "id": "ceeaaf4c",
   "metadata": {},
   "outputs": [],
   "source": [
    "x_train=scaler.fit_transform(x_train)"
   ]
  },
  {
   "cell_type": "raw",
   "id": "44a4e5fd",
   "metadata": {},
   "source": [
    "x_test=scaler.transform(x_test)"
   ]
  },
  {
   "cell_type": "code",
   "execution_count": null,
   "id": "352aadea",
   "metadata": {},
   "outputs": [],
   "source": [
    "from tensorflow.keras.models import Sequential\n",
    "from tensorflow.keras.layers import Dense\n",
    "import tensorflow.compat.v1 as tf"
   ]
  },
  {
   "cell_type": "code",
   "execution_count": null,
   "id": "69dbf5fc",
   "metadata": {},
   "outputs": [],
   "source": [
    "x_train.shape"
   ]
  },
  {
   "cell_type": "code",
   "execution_count": null,
   "id": "27ef58c3",
   "metadata": {},
   "outputs": [],
   "source": [
    "model =Sequential()\n",
    "model.add(Dense(10,activation=\"relu\"))\n",
    "model.add(Dense(10,activation=\"relu\"))\n",
    "model.add(Dense(10,activation=\"relu\"))\n",
    "model.add(Dense(10,activation=\"relu\"))\n",
    "model.add(Dense(1))\n",
    "model.compile(optimizer=\"adam\",loss=\"mse\")"
   ]
  },
  {
   "cell_type": "code",
   "execution_count": null,
   "id": "954408ce",
   "metadata": {},
   "outputs": [],
   "source": [
    "model.fit(x=x_train,y=y_train,validation_data=(x_test,y_test),batch_size=250,epochs=300)"
   ]
  },
  {
   "cell_type": "code",
   "execution_count": null,
   "id": "6cd8cb38",
   "metadata": {},
   "outputs": [],
   "source": []
  },
  {
   "cell_type": "code",
   "execution_count": null,
   "id": "fe152a3f",
   "metadata": {},
   "outputs": [],
   "source": []
  },
  {
   "cell_type": "code",
   "execution_count": null,
   "id": "c21ecb2f",
   "metadata": {},
   "outputs": [],
   "source": []
  },
  {
   "cell_type": "code",
   "execution_count": null,
   "id": "a8119373",
   "metadata": {},
   "outputs": [],
   "source": []
  },
  {
   "cell_type": "code",
   "execution_count": null,
   "id": "3ca368f2",
   "metadata": {},
   "outputs": [],
   "source": []
  }
 ],
 "metadata": {
  "kernelspec": {
   "display_name": "Python 3 (ipykernel)",
   "language": "python",
   "name": "python3"
  },
  "language_info": {
   "codemirror_mode": {
    "name": "ipython",
    "version": 3
   },
   "file_extension": ".py",
   "mimetype": "text/x-python",
   "name": "python",
   "nbconvert_exporter": "python",
   "pygments_lexer": "ipython3",
   "version": "3.11.5"
  }
 },
 "nbformat": 4,
 "nbformat_minor": 5
}
